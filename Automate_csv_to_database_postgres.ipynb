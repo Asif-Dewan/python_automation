{
 "cells": [
  {
   "cell_type": "code",
   "execution_count": 1,
   "id": "df05df2f",
   "metadata": {},
   "outputs": [
    {
     "name": "stdout",
     "output_type": "stream",
     "text": [
      "Defaulting to user installation because normal site-packages is not writeable\n",
      "Requirement already satisfied: psycopg2 in c:\\users\\asif.dewan\\appdata\\roaming\\python\\python311\\site-packages (2.9.7)\n",
      "Note: you may need to restart the kernel to use updated packages.\n"
     ]
    }
   ],
   "source": [
    "pip install psycopg2"
   ]
  },
  {
   "cell_type": "code",
   "execution_count": 2,
   "id": "20683ec7",
   "metadata": {},
   "outputs": [],
   "source": [
    "#Importing Libraries\n",
    "import os\n",
    "import pandas as pd\n",
    "import numpy as np\n",
    "import psycopg2"
   ]
  },
  {
   "cell_type": "code",
   "execution_count": 7,
   "id": "7b8f970a",
   "metadata": {},
   "outputs": [],
   "source": [
    "\n",
    "# Define database connection parameters\n",
    "db_params = {\n",
    "    \"database\": \"Super_Store\",\n",
    "    \"user\": \"postgres\",\n",
    "    \"password\": \"1234\",\n",
    "    \"host\": \"localhost\",\n",
    "    \"port\": \"5432\"\n",
    "}"
   ]
  },
  {
   "cell_type": "code",
   "execution_count": 53,
   "id": "85840af6",
   "metadata": {},
   "outputs": [],
   "source": [
    "# Excel file path\n",
    "excel_file_path = \"D:\\SQL_Queries\\Superstore.xlsx\"\n",
    "\n",
    "# Sheet name\n",
    "sheet_name = \"People\"\n",
    "\n",
    "# Table name\n",
    "table_name = \"People\"\n",
    "\n",
    "# Read Excel data using pandas with the openpyxl engine\n",
    "excel_data = pd.read_excel(excel_file_path, sheet_name=sheet_name, engine='openpyxl')"
   ]
  },
  {
   "cell_type": "code",
   "execution_count": null,
   "id": "cc4c832c",
   "metadata": {},
   "outputs": [],
   "source": []
  },
  {
   "cell_type": "code",
   "execution_count": 54,
   "id": "97cfad32",
   "metadata": {},
   "outputs": [],
   "source": [
    " excel_data.columns = [x.lower().replace(\" \", \"_\").replace(\"-\",\"_\").replace(r\"/\",\"_\").replace(\"\\\\\",\"_\").replace(\".\",\"_\").replace(\"$\",\"\").replace(\"%\",\"\") for x in excel_data.columns]"
   ]
  },
  {
   "cell_type": "code",
   "execution_count": 55,
   "id": "4cf51b6a",
   "metadata": {},
   "outputs": [],
   "source": [
    "# Extract column names and data types\n",
    "column_names = excel_data.columns.tolist()"
   ]
  },
  {
   "cell_type": "code",
   "execution_count": 56,
   "id": "9b28e815",
   "metadata": {},
   "outputs": [
    {
     "data": {
      "text/plain": [
       "person    object\n",
       "region    object\n",
       "dtype: object"
      ]
     },
     "execution_count": 56,
     "metadata": {},
     "output_type": "execute_result"
    }
   ],
   "source": [
    "excel_data.dtypes"
   ]
  },
  {
   "cell_type": "code",
   "execution_count": 57,
   "id": "39053e85",
   "metadata": {},
   "outputs": [
    {
     "data": {
      "text/plain": [
       "Index(['person', 'region'], dtype='object')"
      ]
     },
     "execution_count": 57,
     "metadata": {},
     "output_type": "execute_result"
    }
   ],
   "source": [
    " excel_data.columns"
   ]
  },
  {
   "cell_type": "code",
   "execution_count": 58,
   "id": "5820c394",
   "metadata": {},
   "outputs": [],
   "source": [
    "# Convert pandas data types to PostgreSQL data types\n",
    "data_type_mapping = {\n",
    "     'timedelta64[ns]': 'varchar',\n",
    "        'object': 'varchar',\n",
    "        'float64': 'float',\n",
    "        'int64': 'int',  #bigint for big values, can be changed with int for small values\n",
    "        'datetime64[ns]': 'timestamp' \n",
    "}\n",
    "data_types = [data_type_mapping[str(data_type)] for data_type in excel_data.dtypes]\n",
    "# Establish a connection to the database\n",
    "conn = psycopg2.connect(**db_params)\n",
    "\n",
    "# Create a cursor\n",
    "cursor = conn.cursor()\n"
   ]
  },
  {
   "cell_type": "code",
   "execution_count": 59,
   "id": "bb4c4d05",
   "metadata": {},
   "outputs": [],
   "source": [
    " cursor.execute(\"drop table if exists %s;\" % (table_name))"
   ]
  },
  {
   "cell_type": "code",
   "execution_count": 60,
   "id": "568f8200",
   "metadata": {},
   "outputs": [],
   "source": [
    "# Construct CREATE TABLE query dynamically\n",
    "create_table_query = f\"CREATE TABLE {table_name} (\"\n",
    "for col_name, data_type in zip(column_names, data_types):\n",
    "    create_table_query += f\"{col_name} {data_type}, \"\n",
    "create_table_query = create_table_query.rstrip(\", \") + \")\"\n",
    "cursor.execute(create_table_query)\n",
    "conn.commit()\n"
   ]
  },
  {
   "cell_type": "code",
   "execution_count": 61,
   "id": "195c1415",
   "metadata": {},
   "outputs": [],
   "source": [
    "# Insert data into the table\n",
    "for _, row in excel_data.iterrows():\n",
    "    insert_query = f\"INSERT INTO {table_name} ({', '.join(column_names)}) VALUES ({', '.join(['%s']*len(column_names))})\"\n",
    "    values = tuple(row)\n",
    "    cursor.execute(insert_query, values)\n",
    "    conn.commit()\n",
    "\n",
    "# Close the cursor and the connection\n",
    "cursor.close()\n",
    "conn.close()\n"
   ]
  },
  {
   "cell_type": "code",
   "execution_count": null,
   "id": "efd413c9",
   "metadata": {},
   "outputs": [],
   "source": []
  },
  {
   "cell_type": "code",
   "execution_count": null,
   "id": "a8bdd9ac",
   "metadata": {},
   "outputs": [],
   "source": []
  }
 ],
 "metadata": {
  "kernelspec": {
   "display_name": "Python 3 (ipykernel)",
   "language": "python",
   "name": "python3"
  },
  "language_info": {
   "codemirror_mode": {
    "name": "ipython",
    "version": 3
   },
   "file_extension": ".py",
   "mimetype": "text/x-python",
   "name": "python",
   "nbconvert_exporter": "python",
   "pygments_lexer": "ipython3",
   "version": "3.11.3"
  }
 },
 "nbformat": 4,
 "nbformat_minor": 5
}
